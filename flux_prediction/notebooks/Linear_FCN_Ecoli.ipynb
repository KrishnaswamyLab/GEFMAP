{
 "cells": [
  {
   "cell_type": "code",
   "execution_count": 1,
   "metadata": {},
   "outputs": [
    {
     "name": "stderr",
     "output_type": "stream",
     "text": [
      "/gpfs/gibbs/project/krishnaswamy_smita/sv496/conda_envs/metabolomics/lib/python3.10/site-packages/tqdm/auto.py:21: TqdmWarning: IProgress not found. Please update jupyter and ipywidgets. See https://ipywidgets.readthedocs.io/en/stable/user_install.html\n",
      "  from .autonotebook import tqdm as notebook_tqdm\n"
     ]
    }
   ],
   "source": [
    "import torch\n",
    "import numpy as np\n",
    "import matplotlib.pyplot as plt\n",
    "import pandas as pd\n",
    "import pickle as pk\n",
    "from numpy import inf\n",
    "import torch.optim as optim\n",
    "from datetime import datetime\n",
    "import os, time, argparse, csv\n",
    "import torch.nn.functional as F\n",
    "import pickle\n",
    "from torch.nn.functional import l1_loss, mse_loss\n",
    "from sklearn.model_selection import train_test_split\n",
    "from torch.optim.lr_scheduler import ReduceLROnPlateau\n",
    "\n",
    "from torch.utils.data import Dataset, DataLoader\n",
    "from torch.nn.functional import l1_loss, mse_loss\n",
    "from sklearn.model_selection import train_test_split\n",
    "from torch.optim.lr_scheduler import ReduceLROnPlateau\n",
    "import torch, math\n",
    "import torch.nn as nn\n",
    "import torch.nn.functional as F\n",
    "import csv\n",
    "import pickle as pk\n",
    "from scipy.linalg import null_space\n",
    "from torch_geometric.data import Data"
   ]
  },
  {
   "cell_type": "markdown",
   "metadata": {},
   "source": [
    "# Model construction"
   ]
  },
  {
   "cell_type": "code",
   "execution_count": 2,
   "metadata": {},
   "outputs": [],
   "source": [
    "# internal files\n",
    "#from layer.FCN import FCN\n",
    "class FCN(nn.Module):\n",
    "    def __init__(self, in_c, nullspace, num_filter=2, label_dim=95, layer=2, dropout=False):\n",
    "        super(FCN, self).__init__()\n",
    "\n",
    "        self.layers = nn.ModuleList([nn.Conv1d(in_c, 95, 2), nn.ReLU(), nn.Flatten(),\n",
    "                                        nn.Linear(nullspace.shape[0], num_filter, bias=True),\n",
    "                                        #nn.BatchNorm1d(num_filter),\n",
    "                                        nn.ReLU()])\n",
    "        while layer > 3:\n",
    "            self.layers.append(nn.Linear(num_filter, num_filter, bias=True))\n",
    "            #self.layers.append(nn.BatchNorm1d(num_filter)),\n",
    "            self.layers.append(nn.ReLU())\n",
    "            layer -= 1\n",
    "\n",
    "        self.Linear = nn.Linear(num_filter, label_dim, bias=True)\n",
    "        self.dropout = dropout\n",
    "        self.ns = nn.parameter.Parameter(torch.from_numpy(nullspace).T, requires_grad=False)\n",
    "\n",
    "    def forward(self, x):\n",
    "        for layer in self.layers:\n",
    "            x = layer(x)\n",
    "            if self.dropout > 0:\n",
    "                x = F.dropout(x, self.dropout, training=self.training)\n",
    "        x = self.Linear(x)\n",
    "        # print(type(x[0][0]))\n",
    "        # print(type(self.ns))\n",
    "        # y = torch.matmul(x, self.ns.float())\n",
    "        return x"
   ]
  },
  {
   "cell_type": "code",
   "execution_count": 3,
   "metadata": {},
   "outputs": [],
   "source": [
    "#from utils.save_settings import write_log\n",
    "def write_log(args, path):\n",
    "    with open(path+'/settings.csv', 'w', newline='') as file:\n",
    "        writer = csv.writer(file)\n",
    "        for para in args:\n",
    "            writer.writerow([para, args[para]])\n",
    "    return"
   ]
  },
  {
   "cell_type": "code",
   "execution_count": 4,
   "metadata": {},
   "outputs": [],
   "source": [
    "# select cuda device if available\n",
    "cuda_device = 0\n",
    "device = torch.device(\"cuda:%d\" % cuda_device if torch.cuda.is_available() else \"cpu\")"
   ]
  },
  {
   "cell_type": "code",
   "execution_count": 5,
   "metadata": {},
   "outputs": [],
   "source": [
    "class BaseLoader(Dataset):\n",
    "    def __init__(self, X, Y):\n",
    "        self.X = X.astype('float32')\n",
    "        self.Y = Y.astype('float32')\n",
    "    def __getitem__(self, item):\n",
    "        return (self.X[item], self.Y[item])\n",
    "    def __len__(self):\n",
    "        return len(self.X)"
   ]
  },
  {
   "cell_type": "code",
   "execution_count": 6,
   "metadata": {},
   "outputs": [],
   "source": [
    "num_workers = 2\n",
    "\n",
    "epochs = 100\n",
    "batch = 32\n",
    "\n",
    "layer = 2\n",
    "dropout = 0.0\n",
    "\n",
    "lr = 1e-2\n",
    "w = 10\n",
    "\n",
    "num_filter = 32\n",
    "randomseed = 3407\n",
    "target = -1\n"
   ]
  },
  {
   "cell_type": "markdown",
   "metadata": {},
   "source": [
    "# Data processing"
   ]
  },
  {
   "cell_type": "code",
   "execution_count": 7,
   "metadata": {},
   "outputs": [],
   "source": [
    "out_path = '/home/sv496/project/metabolic_graph/data/E.coli_data/'\n",
    "\n",
    "with open(out_path+ 'aug_NN_features.pk', 'rb') as b:\n",
    "    graph_obj = pk.load(b)\n",
    "\n",
    "S_matrix = pd.read_csv(out_path + 'S_matrix.csv', index_col = 0)\n",
    "S = S_matrix.to_numpy()\n",
    "ns = null_space(S_matrix)"
   ]
  },
  {
   "cell_type": "code",
   "execution_count": 8,
   "metadata": {},
   "outputs": [],
   "source": [
    "bounds = graph_obj['bounds']\n",
    "#BIOMASS SOLUTIONS\n",
    "# solutions = graph_obj['solutions_biomass']\n",
    "#MAX WEIGHTED CLIQUE SOLUTIONS\n",
    "solutions = graph_obj['solutions_mwclique']"
   ]
  },
  {
   "cell_type": "markdown",
   "metadata": {},
   "source": [
    "$RAG = \\hat{S}^T \\hat{S}$\n",
    "\n",
    " where $\\hat{S}$ is boolean S_matrix"
   ]
  },
  {
   "cell_type": "code",
   "execution_count": 9,
   "metadata": {},
   "outputs": [],
   "source": [
    "S_bool = S_matrix[S_matrix == 0].fillna(1).to_numpy()\n",
    "RAG = np.matmul(np.transpose(S_bool), S_bool)\n",
    "RAG = pd.DataFrame(RAG, index = S_matrix.columns, columns = S_matrix.columns)"
   ]
  },
  {
   "cell_type": "code",
   "execution_count": 10,
   "metadata": {},
   "outputs": [],
   "source": [
    "edge_index = np.zeros([1,2])\n",
    "for i, row in enumerate(RAG.index):\n",
    "    for f, col in enumerate(RAG.columns):\n",
    "        if RAG.iloc[i,f] > 0:\n",
    "            p = ([i,f])\n",
    "            edge_index = np.vstack([edge_index, p])\n",
    "edge_index = edge_index[2:,:]\n",
    "edge_index = edge_index.reshape(2,2204)\n",
    "edge_index = torch.from_numpy(edge_index)\n",
    "edge_index = edge_index.type(torch.LongTensor)"
   ]
  },
  {
   "cell_type": "code",
   "execution_count": 11,
   "metadata": {},
   "outputs": [],
   "source": [
    "dictionary = {}\n",
    "for i, curr_bounds in enumerate(bounds):\n",
    "\n",
    "    x = torch.from_numpy(curr_bounds.reshape(95,2)).float() #both upper and lower bounds\n",
    "    # x = torch.from_numpy(curr_bounds[:,0].reshape(95,1)).float() #just upper bound\n",
    "    y = torch.from_numpy(solutions[i].reshape(95,1)).float()\n",
    "\n",
    "    data = Data(x=x, y=y, edge_index=edge_index)\n",
    "    key = \"graph_\"+str(i)\n",
    "    dictionary[key] = data"
   ]
  },
  {
   "cell_type": "code",
   "execution_count": 12,
   "metadata": {},
   "outputs": [],
   "source": [
    "ns = ns.astype('float32')\n",
    "S = S.astype('float32')\n",
    "\n",
    "X = []\n",
    "Y = []\n",
    "for i, j in dictionary.items():\n",
    "    X.append(j.x)\n",
    "    Y.append(j.y)\n",
    "\n",
    "\n",
    "X = [j.x.numpy() for t,j in dictionary.items()]\n",
    "\n",
    "Y = [j.y.numpy() for t,j in dictionary.items()]\n",
    "\n",
    "# print(X)\n",
    "# print(Y)\n",
    "X = np.array(X)\n",
    "Y = np.array(Y)\n",
    "\n",
    "#save in datast dict\n",
    "dataset = {}\n",
    "dataset['X'] = X\n",
    "dataset['Y'] = Y\n",
    "dataset['ns'] = ns\n",
    "dataset['S'] = S_matrix\n",
    "\n",
    "X_train, X_test,Y_train, Y_test = train_test_split(X, Y, test_size=0.2, shuffle=True, random_state=randomseed)\n",
    "X_train, X_val, Y_train, Y_val  = train_test_split(X_train, Y_train, shuffle=True, random_state=randomseed, test_size=0.2)\n",
    "\n",
    "ns, train, val, test = ns, BaseLoader(X_train, Y_train), BaseLoader(X_val, Y_val), BaseLoader(X_test, Y_test)"
   ]
  },
  {
   "cell_type": "markdown",
   "metadata": {},
   "source": [
    "# Training and Testing model"
   ]
  },
  {
   "cell_type": "code",
   "execution_count": 13,
   "metadata": {},
   "outputs": [],
   "source": [
    "def loss(preds, y):\n",
    "    return mse_loss(preds, y)\n",
    "\n",
    "save_name = 'test'\n",
    "seed = randomseed"
   ]
  },
  {
   "cell_type": "code",
   "execution_count": 14,
   "metadata": {},
   "outputs": [],
   "source": [
    "# torch data loader\n",
    "train_loader = DataLoader(train, num_workers=num_workers, pin_memory = True, batch_size=batch, shuffle=True, drop_last=False)\n",
    "val_loader = DataLoader(val, num_workers=num_workers, pin_memory = True, batch_size=batch, shuffle=False, drop_last=True)\n",
    "test_loader = DataLoader(test, num_workers=num_workers, pin_memory = True, batch_size=batch, shuffle=False, drop_last=False)\n",
    "\n",
    "# initialize magnet (feature dim is 2)\n",
    "model = FCN(95, ns, label_dim=95,\n",
    "    layer = layer, num_filter = num_filter, dropout=dropout).to(device)\n",
    "opt = optim.Adam(model.parameters(), lr=lr)\n",
    "\n",
    "scheduler = ReduceLROnPlateau(opt, factor=0.5, patience=100)"
   ]
  },
  {
   "cell_type": "code",
   "execution_count": 15,
   "metadata": {},
   "outputs": [
    {
     "name": "stdout",
     "output_type": "stream",
     "text": [
      "0, / ,100, epoch,Train loss:, 64.641529, Val loss:, 32.792309, --- 6.8519 seconds --- lr: 0.01\n",
      "1, / ,100, epoch,Train loss:, 31.429034, Val loss:, 29.859796, --- 0.2823 seconds --- lr: 0.01\n",
      "2, / ,100, epoch,Train loss:, 28.578060, Val loss:, 27.088892, --- 0.2601 seconds --- lr: 0.01\n",
      "3, / ,100, epoch,Train loss:, 25.929013, Val loss:, 24.548365, --- 0.2684 seconds --- lr: 0.01\n",
      "4, / ,100, epoch,Train loss:, 23.517527, Val loss:, 22.238364, --- 0.2827 seconds --- lr: 0.01\n",
      "5, / ,100, epoch,Train loss:, 21.334580, Val loss:, 20.152628, --- 0.2727 seconds --- lr: 0.01\n",
      "6, / ,100, epoch,Train loss:, 19.367567, Val loss:, 18.284359, --- 0.2733 seconds --- lr: 0.01\n",
      "7, / ,100, epoch,Train loss:, 17.603345, Val loss:, 16.599764, --- 0.2608 seconds --- lr: 0.01\n",
      "8, / ,100, epoch,Train loss:, 16.021759, Val loss:, 15.097037, --- 0.2748 seconds --- lr: 0.01\n",
      "9, / ,100, epoch,Train loss:, 14.607895, Val loss:, 13.756808, --- 0.2750 seconds --- lr: 0.01\n",
      "10, / ,100, epoch,Train loss:, 13.345746, Val loss:, 12.554607, --- 0.3492 seconds --- lr: 0.01\n",
      "11, / ,100, epoch,Train loss:, 12.222511, Val loss:, 11.490706, --- 0.2741 seconds --- lr: 0.01\n",
      "12, / ,100, epoch,Train loss:, 11.225514, Val loss:, 10.542394, --- 0.2692 seconds --- lr: 0.01\n",
      "13, / ,100, epoch,Train loss:, 10.344487, Val loss:, 9.711100, --- 0.3208 seconds --- lr: 0.01\n",
      "14, / ,100, epoch,Train loss:, 9.560645, Val loss:, 8.966694, --- 0.2835 seconds --- lr: 0.01\n",
      "15, / ,100, epoch,Train loss:, 8.866884, Val loss:, 8.314438, --- 0.3321 seconds --- lr: 0.01\n",
      "16, / ,100, epoch,Train loss:, 8.256959, Val loss:, 7.731560, --- 0.2773 seconds --- lr: 0.01\n",
      "17, / ,100, epoch,Train loss:, 7.719983, Val loss:, 7.226547, --- 0.2694 seconds --- lr: 0.01\n",
      "18, / ,100, epoch,Train loss:, 7.246912, Val loss:, 6.777973, --- 0.2665 seconds --- lr: 0.01\n",
      "19, / ,100, epoch,Train loss:, 6.829691, Val loss:, 6.382670, --- 0.2676 seconds --- lr: 0.01\n",
      "20, / ,100, epoch,Train loss:, 6.462635, Val loss:, 6.039651, --- 0.2665 seconds --- lr: 0.01\n",
      "21, / ,100, epoch,Train loss:, 6.143286, Val loss:, 5.737666, --- 0.2716 seconds --- lr: 0.01\n",
      "22, / ,100, epoch,Train loss:, 5.862088, Val loss:, 5.470413, --- 0.2726 seconds --- lr: 0.01\n",
      "23, / ,100, epoch,Train loss:, 5.615518, Val loss:, 5.239971, --- 0.2730 seconds --- lr: 0.01\n",
      "24, / ,100, epoch,Train loss:, 5.401234, Val loss:, 5.038345, --- 0.2702 seconds --- lr: 0.01\n",
      "25, / ,100, epoch,Train loss:, 5.212774, Val loss:, 4.860977, --- 0.2696 seconds --- lr: 0.01\n",
      "26, / ,100, epoch,Train loss:, 5.047515, Val loss:, 4.707136, --- 0.2697 seconds --- lr: 0.01\n",
      "27, / ,100, epoch,Train loss:, 4.903668, Val loss:, 4.572448, --- 0.2700 seconds --- lr: 0.01\n",
      "28, / ,100, epoch,Train loss:, 4.779456, Val loss:, 4.457885, --- 0.2727 seconds --- lr: 0.01\n",
      "29, / ,100, epoch,Train loss:, 4.671785, Val loss:, 4.357080, --- 0.2645 seconds --- lr: 0.01\n",
      "30, / ,100, epoch,Train loss:, 4.579151, Val loss:, 4.271550, --- 0.2697 seconds --- lr: 0.01\n",
      "31, / ,100, epoch,Train loss:, 4.497255, Val loss:, 4.195564, --- 0.2689 seconds --- lr: 0.01\n",
      "32, / ,100, epoch,Train loss:, 4.426887, Val loss:, 4.130465, --- 0.2697 seconds --- lr: 0.01\n",
      "33, / ,100, epoch,Train loss:, 4.367118, Val loss:, 4.075583, --- 0.2671 seconds --- lr: 0.01\n",
      "34, / ,100, epoch,Train loss:, 4.315798, Val loss:, 4.027289, --- 0.2749 seconds --- lr: 0.01\n",
      "35, / ,100, epoch,Train loss:, 4.271767, Val loss:, 3.988925, --- 0.2715 seconds --- lr: 0.01\n",
      "36, / ,100, epoch,Train loss:, 4.234960, Val loss:, 3.954319, --- 0.2726 seconds --- lr: 0.01\n",
      "37, / ,100, epoch,Train loss:, 4.203295, Val loss:, 3.925408, --- 0.2696 seconds --- lr: 0.01\n",
      "38, / ,100, epoch,Train loss:, 4.176731, Val loss:, 3.901274, --- 0.2819 seconds --- lr: 0.01\n",
      "39, / ,100, epoch,Train loss:, 4.154443, Val loss:, 3.882219, --- 0.2754 seconds --- lr: 0.01\n",
      "40, / ,100, epoch,Train loss:, 4.135661, Val loss:, 3.864808, --- 0.2669 seconds --- lr: 0.01\n",
      "41, / ,100, epoch,Train loss:, 4.119850, Val loss:, 3.851796, --- 0.2689 seconds --- lr: 0.01\n",
      "42, / ,100, epoch,Train loss:, 4.107225, Val loss:, 3.841212, --- 0.2792 seconds --- lr: 0.01\n",
      "43, / ,100, epoch,Train loss:, 4.096875, Val loss:, 3.831771, --- 0.2720 seconds --- lr: 0.01\n",
      "44, / ,100, epoch,Train loss:, 4.088094, Val loss:, 3.824269, --- 0.2734 seconds --- lr: 0.01\n",
      "45, / ,100, epoch,Train loss:, 4.081085, Val loss:, 3.818339, --- 0.2720 seconds --- lr: 0.01\n",
      "46, / ,100, epoch,Train loss:, 4.075365, Val loss:, 3.812667, --- 0.2652 seconds --- lr: 0.01\n",
      "47, / ,100, epoch,Train loss:, 4.071069, Val loss:, 3.808243, --- 0.2662 seconds --- lr: 0.01\n",
      "48, / ,100, epoch,Train loss:, 4.068081, Val loss:, 3.805509, --- 0.2639 seconds --- lr: 0.01\n",
      "49, / ,100, epoch,Train loss:, 4.065181, Val loss:, 3.803907, --- 0.2767 seconds --- lr: 0.01\n",
      "50, / ,100, epoch,Train loss:, 4.063176, Val loss:, 3.802977, --- 0.2695 seconds --- lr: 0.01\n",
      "51, / ,100, epoch,Train loss:, 4.061180, Val loss:, 3.801391, --- 0.3201 seconds --- lr: 0.01\n",
      "52, / ,100, epoch,Train loss:, 4.060205, Val loss:, 3.800130, --- 0.2751 seconds --- lr: 0.01\n",
      "53, / ,100, epoch,Train loss:, 4.059109, Val loss:, 3.799299, --- 0.2708 seconds --- lr: 0.01\n",
      "54, / ,100, epoch,Train loss:, 4.058755, Val loss:, 3.798228, --- 0.2654 seconds --- lr: 0.01\n",
      "55, / ,100, epoch,Train loss:, 4.058175, Val loss:, 3.798169, --- 0.2729 seconds --- lr: 0.01\n",
      "56, / ,100, epoch,Train loss:, 4.057532, Val loss:, 3.798296, --- 0.2695 seconds --- lr: 0.01\n",
      "57, / ,100, epoch,Train loss:, 4.057405, Val loss:, 3.798081, --- 0.2736 seconds --- lr: 0.01\n",
      "58, / ,100, epoch,Train loss:, 4.057877, Val loss:, 3.798193, --- 0.2697 seconds --- lr: 0.01\n",
      "59, / ,100, epoch,Train loss:, 4.057036, Val loss:, 3.797196, --- 0.2670 seconds --- lr: 0.01\n",
      "60, / ,100, epoch,Train loss:, 4.057080, Val loss:, 3.796991, --- 0.2672 seconds --- lr: 0.01\n",
      "61, / ,100, epoch,Train loss:, 4.056617, Val loss:, 3.797216, --- 0.2765 seconds --- lr: 0.01\n",
      "62, / ,100, epoch,Train loss:, 4.057030, Val loss:, 3.797576, --- 0.2693 seconds --- lr: 0.01\n",
      "63, / ,100, epoch,Train loss:, 4.056877, Val loss:, 3.798756, --- 0.2719 seconds --- lr: 0.01\n",
      "64, / ,100, epoch,Train loss:, 4.058166, Val loss:, 3.798658, --- 0.2719 seconds --- lr: 0.01\n",
      "65, / ,100, epoch,Train loss:, 4.056971, Val loss:, 3.797571, --- 0.2769 seconds --- lr: 0.01\n",
      "66, / ,100, epoch,Train loss:, 4.057400, Val loss:, 3.796689, --- 0.2756 seconds --- lr: 0.01\n",
      "67, / ,100, epoch,Train loss:, 4.057211, Val loss:, 3.797550, --- 0.2725 seconds --- lr: 0.01\n",
      "68, / ,100, epoch,Train loss:, 4.057308, Val loss:, 3.797622, --- 0.2642 seconds --- lr: 0.01\n",
      "69, / ,100, epoch,Train loss:, 4.057105, Val loss:, 3.798026, --- 0.2709 seconds --- lr: 0.01\n",
      "70, / ,100, epoch,Train loss:, 4.056961, Val loss:, 3.797416, --- 0.2695 seconds --- lr: 0.01\n",
      "71, / ,100, epoch,Train loss:, 4.056624, Val loss:, 3.797758, --- 0.2748 seconds --- lr: 0.01\n",
      "72, / ,100, epoch,Train loss:, 4.057062, Val loss:, 3.796810, --- 0.2755 seconds --- lr: 0.01\n",
      "73, / ,100, epoch,Train loss:, 4.057258, Val loss:, 3.797487, --- 0.2677 seconds --- lr: 0.01\n",
      "74, / ,100, epoch,Train loss:, 4.057260, Val loss:, 3.797136, --- 0.2701 seconds --- lr: 0.01\n",
      "75, / ,100, epoch,Train loss:, 4.057120, Val loss:, 3.797129, --- 0.2650 seconds --- lr: 0.01\n",
      "76, / ,100, epoch,Train loss:, 4.057223, Val loss:, 3.798319, --- 0.2713 seconds --- lr: 0.01\n",
      "77, / ,100, epoch,Train loss:, 4.056636, Val loss:, 3.796812, --- 0.2780 seconds --- lr: 0.01\n",
      "78, / ,100, epoch,Train loss:, 4.057034, Val loss:, 3.797408, --- 0.2666 seconds --- lr: 0.01\n",
      "79, / ,100, epoch,Train loss:, 4.057226, Val loss:, 3.797152, --- 0.2660 seconds --- lr: 0.01\n",
      "80, / ,100, epoch,Train loss:, 4.057375, Val loss:, 3.796182, --- 0.2715 seconds --- lr: 0.01\n",
      "81, / ,100, epoch,Train loss:, 4.056917, Val loss:, 3.798106, --- 0.2650 seconds --- lr: 0.01\n",
      "82, / ,100, epoch,Train loss:, 4.057555, Val loss:, 3.796690, --- 0.2663 seconds --- lr: 0.01\n",
      "83, / ,100, epoch,Train loss:, 4.056896, Val loss:, 3.797313, --- 0.2734 seconds --- lr: 0.01\n",
      "84, / ,100, epoch,Train loss:, 4.057947, Val loss:, 3.798734, --- 0.2762 seconds --- lr: 0.01\n",
      "85, / ,100, epoch,Train loss:, 4.057057, Val loss:, 3.797813, --- 0.2701 seconds --- lr: 0.01\n",
      "86, / ,100, epoch,Train loss:, 4.057441, Val loss:, 3.796194, --- 0.2758 seconds --- lr: 0.01\n",
      "87, / ,100, epoch,Train loss:, 4.057201, Val loss:, 3.798911, --- 0.2707 seconds --- lr: 0.01\n",
      "88, / ,100, epoch,Train loss:, 4.057014, Val loss:, 3.797702, --- 0.2645 seconds --- lr: 0.01\n",
      "89, / ,100, epoch,Train loss:, 4.057965, Val loss:, 3.797401, --- 0.2627 seconds --- lr: 0.01\n",
      "90, / ,100, epoch,Train loss:, 4.057083, Val loss:, 3.797124, --- 0.2665 seconds --- lr: 0.01\n",
      "91, / ,100, epoch,Train loss:, 4.056937, Val loss:, 3.796800, --- 0.2672 seconds --- lr: 0.01\n",
      "92, / ,100, epoch,Train loss:, 4.057166, Val loss:, 3.797045, --- 0.2700 seconds --- lr: 0.01\n",
      "93, / ,100, epoch,Train loss:, 4.057410, Val loss:, 3.798937, --- 0.2700 seconds --- lr: 0.01\n",
      "94, / ,100, epoch,Train loss:, 4.057549, Val loss:, 3.797481, --- 0.2663 seconds --- lr: 0.01\n",
      "95, / ,100, epoch,Train loss:, 4.058173, Val loss:, 3.799951, --- 0.2641 seconds --- lr: 0.01\n",
      "96, / ,100, epoch,Train loss:, 4.057451, Val loss:, 3.797735, --- 0.2684 seconds --- lr: 0.01\n",
      "97, / ,100, epoch,Train loss:, 4.057603, Val loss:, 3.797146, --- 0.2683 seconds --- lr: 0.01\n",
      "98, / ,100, epoch,Train loss:, 4.057749, Val loss:, 3.798499, --- 0.2718 seconds --- lr: 0.01\n",
      "99, / ,100, epoch,Train loss:, 4.057199, Val loss:, 3.797523, --- 0.2757 seconds --- lr: 0.01\n"
     ]
    }
   ],
   "source": [
    "log_str_full = ''\n",
    "best_test_mse = 10000.0\n",
    "early_stopping = 0\n",
    "# loss function\n",
    "criterion = loss\n",
    "\n",
    "training_losses = []\n",
    "\n",
    "\n",
    "for epoch in range(epochs):\n",
    "    loss_val, loss_train = 0.0, 0.0\n",
    "    start_time = time.time()\n",
    "    ####################\n",
    "    # Train\n",
    "    ####################\n",
    "    count = 0\n",
    "    model.train()\n",
    "    for x, y in train_loader:\n",
    "        x, y = x.to(device), y.to(device)\n",
    "        batch_size = x.shape[0]\n",
    "        count += batch_size\n",
    "        preds = model(x)\n",
    "        # unsupervised loss\n",
    "        # train_loss = -torch.mean(preds*(x[:,-1]==-1)) + w*torch.mean(F.relu(x[:,0]-preds) + F.relu(preds-x[:,1])) #+ criterion(preds, y)\n",
    "        # supervised loss + unsupervised loss\n",
    "        #train_loss = -torch.mean(preds[:,target]) + 10.0*torch.mean( F.relu(x[:,0]-preds) + F.relu(preds-x[:,1]) ) + criterion(preds, y)\n",
    "        #supervised loss\n",
    "        preds = preds.unsqueeze(2)\n",
    "        # print(preds)\n",
    "        # print(y.shape)\n",
    "        train_loss = criterion(preds, y)\n",
    "\n",
    "        opt.zero_grad()\n",
    "        train_loss.backward()\n",
    "        opt.step()\n",
    "        loss_train += train_loss.item() * batch_size\n",
    "\n",
    "    loss_train /= count\n",
    "    outstrtrain = 'Train loss:, %.6f, ' % (loss_train)\n",
    "    ####################\n",
    "    # Val\n",
    "    ####################\n",
    "    count = 0\n",
    "    model.eval()\n",
    "    with torch.no_grad():\n",
    "        for x, y in val_loader:\n",
    "            x, y = x.to(device), y.to(device)\n",
    "            batch_size = x.shape[0]\n",
    "            count += batch_size\n",
    "            preds = model(x)\n",
    "            preds = preds.unsqueeze(2)\n",
    "            val_loss = criterion(preds, y)\n",
    "            loss_val += val_loss.item() * batch_size\n",
    "\n",
    "        loss_val /= count\n",
    "    outstrval = 'Val loss:, %.6f, ' % (loss_val)\n",
    "    scheduler.step(loss_val)\n",
    "\n",
    "    ## save losses\n",
    "    training_losses.append(loss_val)\n",
    "\n",
    "    duration = \"--- %.4f seconds ---\" % (time.time() - start_time)\n",
    "    log_str = (\"%d, / ,%d, epoch,\" % (epoch, epochs))+outstrtrain+outstrval+duration+' lr: '+str(opt.param_groups[0]['lr'])\n",
    "    log_str_full += log_str + '\\n'\n",
    "    print(log_str)\n",
    "\n",
    "    ####################\n",
    "    # Save weights\n",
    "    ####################\n",
    "    save_perform = loss_val\n",
    "    if save_perform <= best_test_mse:\n",
    "        early_stopping = 0\n",
    "        best_test_mse = save_perform\n",
    "        # torch.save(model.state_dict(), log_path + '/model.t7')\n",
    "    else:\n",
    "        early_stopping += 1\n",
    "    if early_stopping > 1000 or epoch == (epochs-1):\n",
    "        # torch.save(model.state_dict(), log_path + '/model_latest.t7')\n",
    "        break\n"
   ]
  },
  {
   "cell_type": "code",
   "execution_count": 16,
   "metadata": {},
   "outputs": [
    {
     "name": "stdout",
     "output_type": "stream",
     "text": [
      "Test loss:, 0.035213, \n"
     ]
    }
   ],
   "source": [
    "####################\n",
    "# Testing\n",
    "####################\n",
    "results = {}\n",
    "results['pred']=[]\n",
    "results['label']=[]\n",
    "results['bound']=[]\n",
    "results['M_label'] = []\n",
    "results['M_pred'] = []\n",
    "# model.load_state_dict(torch.load(log_path + '/model.t7'))\n",
    "model.eval()\n",
    "loss_test = 0.0\n",
    "count = 0\n",
    "sum_y = 0\n",
    "with torch.no_grad():\n",
    "    for i, (x, y) in enumerate(test_loader):\n",
    "        x, y = x.to(device), y.to(device)\n",
    "        batch_size = x.shape[0]\n",
    "        count += batch_size\n",
    "        preds = model(x)\n",
    "        preds = preds.unsqueeze(2)\n",
    "        val_loss = criterion(preds, y)\n",
    "        # print(i)\n",
    "        # print(torch.sum(y))\n",
    "        sum_y += torch.sum(y)\n",
    "        loss_test += val_loss.item() * batch_size\n",
    "        results['pred'].append(preds.detach().cpu().numpy())\n",
    "        results['label'].append(y.detach().cpu().numpy())\n",
    "        results['bound'].append(x.detach().cpu().numpy())\n",
    "\n",
    "        #M_label = MFG(y.detach().cpu().numpy(), S2m_neg, S2m_pos)\n",
    "        #M_pred  = MFG(preds.detach().cpu().numpy(), S2m_neg, S2m_pos)\n",
    "\n",
    "        #pk.dump({'M_label': M_label, 'M_pred': M_pred},\n",
    "        #            open(method_name+str(i)+'.pk', 'wb'))\n",
    "\n",
    "results['pred'] = np.concatenate(results['pred'])\n",
    "results['label'] = np.concatenate(results['label'])\n",
    "#results['M_label'] = np.concatenate(results['M_label'])\n",
    "#results['M_pred'] = np.concatenate(results['M_pred'])\n",
    "results['bound'] = np.concatenate(results['bound'])\n",
    "# print(loss_test)\n",
    "# print(sum_y)\n",
    "loss_test /= sum_y\n",
    "outstrtest = 'Test loss:, %.6f, ' % (loss_test)\n",
    "log_str_full += outstrtest\n",
    "print(outstrtest)"
   ]
  },
  {
   "cell_type": "markdown",
   "metadata": {},
   "source": [
    "# Visualizations"
   ]
  },
  {
   "cell_type": "code",
   "execution_count": 17,
   "metadata": {},
   "outputs": [
    {
     "data": {
      "image/png": "[encoded data removed]",
      "text/plain": [
       "<Figure size 600x600 with 1 Axes>"
      ]
     },
     "metadata": {},
     "output_type": "display_data"
    }
   ],
   "source": [
    "fig, ax = plt.subplots(1,1, figsize = (6,6))\n",
    "ax.scatter(x = results['pred'].flatten(), y = results['label'].flatten(), s = 0.11)\n",
    "ax.plot([-10, 20], [-10, 20], ls=\"--\", c=\".3\")\n",
    "ax.set(xlim=(-10, 20), ylim=(-10, 20))\n",
    "ax.set_xlabel(\"Predicted values\")\n",
    "ax.set_ylabel(\"FBA solution ground truth\")\n",
    "ax.set_title(\"ecoli metabolic network\")\n",
    "fig.show()\n",
    "plt.savefig('ecoli_linear_network.pdf', dpi=300)"
   ]
  },
  {
   "cell_type": "code",
   "execution_count": 18,
   "metadata": {},
   "outputs": [
    {
     "data": {
      "text/plain": [
       "(57285,)"
      ]
     },
     "execution_count": 18,
     "metadata": {},
     "output_type": "execute_result"
    }
   ],
   "source": [
    "results['label'].flatten().shape"
   ]
  },
  {
   "cell_type": "code",
   "execution_count": 19,
   "metadata": {},
   "outputs": [
    {
     "data": {
      "text/plain": [
       "(57285,)"
      ]
     },
     "execution_count": 19,
     "metadata": {},
     "output_type": "execute_result"
    }
   ],
   "source": [
    "results['pred'].flatten().shape"
   ]
  },
  {
   "cell_type": "code",
   "execution_count": 20,
   "metadata": {},
   "outputs": [
    {
     "name": "stdout",
     "output_type": "stream",
     "text": [
      "Pearson Correlation Coefficient: 0.939509353082034\n"
     ]
    }
   ],
   "source": [
    "from scipy.stats import pearsonr\n",
    "pcc, _ = pearsonr(results['label'].flatten(), results['pred'].flatten())\n",
    "print(\"Pearson Correlation Coefficient:\", pcc)\n"
   ]
  },
  {
   "cell_type": "code",
   "execution_count": 21,
   "metadata": {},
   "outputs": [
    {
     "data": {
      "text/plain": [
       "Text(0, 0.5, 'Losss')"
      ]
     },
     "execution_count": 21,
     "metadata": {},
     "output_type": "execute_result"
    },
    {
     "data": {
      "image/png": "[encoded data removed]",
      "text/plain": [
       "<Figure size 500x300 with 1 Axes>"
      ]
     },
     "metadata": {},
     "output_type": "display_data"
    }
   ],
   "source": [
    "fig, ax = plt.subplots(1,1, figsize = (5,3))\n",
    "\n",
    "epochs = range(0,len(training_losses))\n",
    "ax.plot(epochs, training_losses)\n",
    "ax.set_xlabel('epochs', size = 18)\n",
    "ax.set_ylabel(\"Losss\", size = 18)"
   ]
  }
 ],
 "metadata": {
  "kernelspec": {
   "display_name": "Python 3",
   "language": "python",
   "name": "python3"
  },
  "language_info": {
   "codemirror_mode": {
    "name": "ipython",
    "version": 3
   },
   "file_extension": ".py",
   "mimetype": "text/x-python",
   "name": "python",
   "nbconvert_exporter": "python",
   "pygments_lexer": "ipython3",
   "version": "3.10.12"
  }
 },
 "nbformat": 4,
 "nbformat_minor": 2
}
