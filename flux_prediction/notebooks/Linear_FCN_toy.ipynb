{
 "cells": [
  {
   "cell_type": "code",
   "execution_count": 1,
   "metadata": {},
   "outputs": [
    {
     "name": "stderr",
     "output_type": "stream",
     "text": [
      "/gpfs/gibbs/project/krishnaswamy_smita/sv496/conda_envs/metabolomics/lib/python3.10/site-packages/tqdm/auto.py:21: TqdmWarning: IProgress not found. Please update jupyter and ipywidgets. See https://ipywidgets.readthedocs.io/en/stable/user_install.html\n",
      "  from .autonotebook import tqdm as notebook_tqdm\n"
     ]
    }
   ],
   "source": [
    "import torch\n",
    "import numpy as np\n",
    "import matplotlib.pyplot as plt\n",
    "import pandas as pd\n",
    "import pickle as pk\n",
    "from numpy import inf\n",
    "import torch.optim as optim\n",
    "from datetime import datetime\n",
    "import os, time, argparse, csv\n",
    "import torch.nn.functional as F\n",
    "import pickle\n",
    "from torch.nn.functional import l1_loss, mse_loss\n",
    "from sklearn.model_selection import train_test_split\n",
    "from torch.optim.lr_scheduler import ReduceLROnPlateau\n",
    "\n",
    "from torch.utils.data import Dataset, DataLoader\n",
    "from torch.nn.functional import l1_loss, mse_loss\n",
    "from sklearn.model_selection import train_test_split\n",
    "from torch.optim.lr_scheduler import ReduceLROnPlateau\n",
    "import torch, math\n",
    "import torch.nn as nn\n",
    "import torch.nn.functional as F\n",
    "import csv\n",
    "import pickle as pk\n",
    "from scipy.linalg import null_space\n",
    "from torch_geometric.data import Data"
   ]
  },
  {
   "cell_type": "markdown",
   "metadata": {},
   "source": [
    "# Model construction"
   ]
  },
  {
   "cell_type": "code",
   "execution_count": 19,
   "metadata": {},
   "outputs": [],
   "source": [
    "# internal files\n",
    "#from layer.FCN import FCN\n",
    "class FCN(nn.Module):\n",
    "    def __init__(self, in_c, nullspace, num_filter=2, label_dim=8, layer=2, dropout=False):\n",
    "        super(FCN, self).__init__()\n",
    "\n",
    "        self.layers = nn.ModuleList([nn.Conv1d(in_c, 8, 1), nn.ReLU(), nn.Flatten(),\n",
    "                                        nn.Linear(nullspace.shape[0], num_filter, bias=True),\n",
    "                                        #nn.BatchNorm1d(num_filter),\n",
    "                                        nn.ReLU()])\n",
    "        while layer > 3:\n",
    "            self.layers.append(nn.Linear(num_filter, num_filter, bias=True))\n",
    "            #self.layers.append(nn.BatchNorm1d(num_filter)),\n",
    "            self.layers.append(nn.ReLU())\n",
    "            layer -= 1\n",
    "\n",
    "        self.Linear = nn.Linear(num_filter, label_dim, bias=True)\n",
    "        self.dropout = dropout\n",
    "        self.ns = nn.parameter.Parameter(torch.from_numpy(nullspace).T, requires_grad=False)\n",
    "\n",
    "    def forward(self, x):\n",
    "        for layer in self.layers:\n",
    "            x = layer(x)\n",
    "            if self.dropout > 0:\n",
    "                x = F.dropout(x, self.dropout, training=self.training)\n",
    "        x = self.Linear(x)\n",
    "        # print(type(x[0][0]))\n",
    "        # print(type(self.ns))\n",
    "        # y = torch.matmul(x, self.ns.float())\n",
    "        return x"
   ]
  },
  {
   "cell_type": "code",
   "execution_count": 3,
   "metadata": {},
   "outputs": [],
   "source": [
    "#from utils.save_settings import write_log\n",
    "def write_log(args, path):\n",
    "    with open(path+'/settings.csv', 'w', newline='') as file:\n",
    "        writer = csv.writer(file)\n",
    "        for para in args:\n",
    "            writer.writerow([para, args[para]])\n",
    "    return"
   ]
  },
  {
   "cell_type": "code",
   "execution_count": 4,
   "metadata": {},
   "outputs": [],
   "source": [
    "# select cuda device if available\n",
    "cuda_device = 0\n",
    "device = torch.device(\"cuda:%d\" % cuda_device if torch.cuda.is_available() else \"cpu\")"
   ]
  },
  {
   "cell_type": "code",
   "execution_count": 5,
   "metadata": {},
   "outputs": [],
   "source": [
    "class BaseLoader(Dataset):\n",
    "    def __init__(self, X, Y):\n",
    "        self.X = X.astype('float32')\n",
    "        self.Y = Y.astype('float32')\n",
    "    def __getitem__(self, item):\n",
    "        return (self.X[item], self.Y[item])\n",
    "    def __len__(self):\n",
    "        return len(self.X)"
   ]
  },
  {
   "cell_type": "code",
   "execution_count": 6,
   "metadata": {},
   "outputs": [],
   "source": [
    "num_workers = 2\n",
    "\n",
    "epochs = 100\n",
    "batch = 32\n",
    "\n",
    "layer = 2\n",
    "dropout = 0.0\n",
    "\n",
    "lr = 1e-2\n",
    "w = 10\n",
    "\n",
    "num_filter = 32\n",
    "randomseed = 3407\n",
    "target = -1\n"
   ]
  },
  {
   "cell_type": "markdown",
   "metadata": {},
   "source": [
    "# Data processing"
   ]
  },
  {
   "cell_type": "code",
   "execution_count": 7,
   "metadata": {},
   "outputs": [],
   "source": [
    "import pickle as pk\n",
    "out_path = '/home/sv496/project/metabolic_graph/data/Toy_data/'\n",
    "\n",
    "with open(out_path+ '1_node_features.pickle', 'rb') as b:\n",
    "    bounds = pk.load(b)\n",
    "\n",
    "with open(out_path+ 'toy_FBA_solutions.pickle', 'rb') as b:\n",
    "    solutions = pk.load(b)\n",
    "\n",
    "S_matrix = np.array([[1, -1, 0, 0, 0, 0, 0, 0],\n",
    "                  [0, 1, -1, -1, 0, 0, 0, 0],\n",
    "                  [0, 0, 1, 0, -1, 0, 0, -1],\n",
    "                  [0, 0, 0, 1, 0, -1, -1, -2],\n",
    "                  [0, 0, 0, 0, 1, 1, 0, -1]])\n",
    "\n",
    "ns = null_space(S_matrix)\n",
    "\n",
    "RAG = pd.read_csv(out_path + \"toy_adjacency_matrix.csv\",index_col = 0)"
   ]
  },
  {
   "cell_type": "code",
   "execution_count": 8,
   "metadata": {},
   "outputs": [],
   "source": [
    "edge_index = np.zeros([1,2])\n",
    "for i, row in enumerate(RAG.index):\n",
    "    for f, col in enumerate(RAG.columns):\n",
    "        if RAG.iloc[i,f] > 0:\n",
    "            p = ([i,f])\n",
    "            edge_index = np.vstack([edge_index, p])\n",
    "edge_index = edge_index[2:,:]\n",
    "edge_index = edge_index.reshape(2,35)\n",
    "edge_index = torch.from_numpy(edge_index)\n",
    "edge_index = edge_index.type(torch.LongTensor)"
   ]
  },
  {
   "cell_type": "code",
   "execution_count": 9,
   "metadata": {},
   "outputs": [],
   "source": [
    "dictionary = {}\n",
    "for i, curr_bounds in enumerate(bounds):\n",
    "\n",
    "    x = torch.from_numpy(list(bounds.values())[i].reshape(8,1)).float()\n",
    "    y = torch.from_numpy(np.array(list(solutions.values())[i]).reshape(8,1)).float()\n",
    "\n",
    "    data = Data(x=x, y=y, edge_index=edge_index)\n",
    "    key = \"graph_\"+str(i)\n",
    "    dictionary[key] = data"
   ]
  },
  {
   "cell_type": "code",
   "execution_count": 10,
   "metadata": {},
   "outputs": [],
   "source": [
    "ns = ns.astype('float32')\n",
    "# S = S.astype('float32')\n",
    "\n",
    "X = []\n",
    "Y = []\n",
    "for i, j in dictionary.items():\n",
    "    X.append(j.x)\n",
    "    Y.append(j.y)\n",
    "\n",
    "\n",
    "X = [j.x.numpy() for t,j in dictionary.items()]\n",
    "\n",
    "Y = [j.y.numpy() for t,j in dictionary.items()]\n",
    "\n",
    "# print(X)\n",
    "# print(Y)\n",
    "X = np.array(X)\n",
    "Y = np.array(Y)\n",
    "\n",
    "#save in datast dict\n",
    "dataset = {}\n",
    "dataset['X'] = X\n",
    "dataset['Y'] = Y\n",
    "dataset['ns'] = ns\n",
    "dataset['S'] = S_matrix\n",
    "\n",
    "X_train, X_test,Y_train, Y_test = train_test_split(X, Y, test_size=0.2, shuffle=True, random_state=randomseed)\n",
    "X_train, X_val, Y_train, Y_val  = train_test_split(X_train, Y_train, shuffle=True, random_state=randomseed, test_size=0.2)\n",
    "\n",
    "ns, train, val, test = ns, BaseLoader(X_train, Y_train), BaseLoader(X_val, Y_val), BaseLoader(X_test, Y_test)"
   ]
  },
  {
   "cell_type": "markdown",
   "metadata": {},
   "source": [
    "# Training and Testing model"
   ]
  },
  {
   "cell_type": "code",
   "execution_count": 11,
   "metadata": {},
   "outputs": [],
   "source": [
    "def loss(preds, y):\n",
    "    return mse_loss(preds, y)\n",
    "\n",
    "save_name = 'test'\n",
    "seed = randomseed"
   ]
  },
  {
   "cell_type": "code",
   "execution_count": 20,
   "metadata": {},
   "outputs": [],
   "source": [
    "# torch data loader\n",
    "train_loader = DataLoader(train, num_workers=num_workers, pin_memory = True, batch_size=batch, shuffle=True, drop_last=False)\n",
    "val_loader = DataLoader(val, num_workers=num_workers, pin_memory = True, batch_size=batch, shuffle=False, drop_last=True)\n",
    "test_loader = DataLoader(test, num_workers=num_workers, pin_memory = True, batch_size=batch, shuffle=False, drop_last=False)\n",
    "\n",
    "# initialize magnet (feature dim is 2)\n",
    "model = FCN(8, ns, label_dim=8,\n",
    "    layer = layer, num_filter = num_filter, dropout=dropout).to(device)\n",
    "opt = optim.Adam(model.parameters(), lr=lr)\n",
    "\n",
    "scheduler = ReduceLROnPlateau(opt, factor=0.5, patience=100)"
   ]
  },
  {
   "cell_type": "code",
   "execution_count": 21,
   "metadata": {},
   "outputs": [
    {
     "name": "stdout",
     "output_type": "stream",
     "text": [
      "0, / ,100, epoch,Train loss:, 1.646221, Val loss:, 0.992888, --- 5.0525 seconds --- lr: 0.01\n",
      "1, / ,100, epoch,Train loss:, 0.833177, Val loss:, 0.762119, --- 0.1540 seconds --- lr: 0.01\n",
      "2, / ,100, epoch,Train loss:, 0.683700, Val loss:, 0.652138, --- 0.1594 seconds --- lr: 0.01\n",
      "3, / ,100, epoch,Train loss:, 0.571516, Val loss:, 0.524799, --- 0.1538 seconds --- lr: 0.01\n",
      "4, / ,100, epoch,Train loss:, 0.488443, Val loss:, 0.458709, --- 0.1563 seconds --- lr: 0.01\n",
      "5, / ,100, epoch,Train loss:, 0.447689, Val loss:, 0.470999, --- 0.1549 seconds --- lr: 0.01\n",
      "6, / ,100, epoch,Train loss:, 0.450464, Val loss:, 0.450241, --- 0.1540 seconds --- lr: 0.01\n",
      "7, / ,100, epoch,Train loss:, 0.455402, Val loss:, 0.433862, --- 0.1544 seconds --- lr: 0.01\n",
      "8, / ,100, epoch,Train loss:, 0.448463, Val loss:, 0.428662, --- 0.1569 seconds --- lr: 0.01\n",
      "9, / ,100, epoch,Train loss:, 0.450220, Val loss:, 0.431007, --- 0.1552 seconds --- lr: 0.01\n",
      "10, / ,100, epoch,Train loss:, 0.456289, Val loss:, 0.441407, --- 0.1644 seconds --- lr: 0.01\n",
      "11, / ,100, epoch,Train loss:, 0.437550, Val loss:, 0.424598, --- 0.1563 seconds --- lr: 0.01\n",
      "12, / ,100, epoch,Train loss:, 0.443260, Val loss:, 0.424221, --- 0.1544 seconds --- lr: 0.01\n",
      "13, / ,100, epoch,Train loss:, 0.446537, Val loss:, 0.428490, --- 0.1545 seconds --- lr: 0.01\n",
      "14, / ,100, epoch,Train loss:, 0.466103, Val loss:, 0.444832, --- 0.1627 seconds --- lr: 0.01\n",
      "15, / ,100, epoch,Train loss:, 0.442772, Val loss:, 0.421076, --- 0.1760 seconds --- lr: 0.01\n",
      "16, / ,100, epoch,Train loss:, 0.431237, Val loss:, 0.432192, --- 0.1552 seconds --- lr: 0.01\n",
      "17, / ,100, epoch,Train loss:, 0.436083, Val loss:, 0.435906, --- 0.1572 seconds --- lr: 0.01\n",
      "18, / ,100, epoch,Train loss:, 0.448928, Val loss:, 0.421477, --- 0.1540 seconds --- lr: 0.01\n",
      "19, / ,100, epoch,Train loss:, 0.428699, Val loss:, 0.439576, --- 0.1563 seconds --- lr: 0.01\n",
      "20, / ,100, epoch,Train loss:, 0.425390, Val loss:, 0.417816, --- 0.1548 seconds --- lr: 0.01\n",
      "21, / ,100, epoch,Train loss:, 0.425658, Val loss:, 0.421475, --- 0.1541 seconds --- lr: 0.01\n",
      "22, / ,100, epoch,Train loss:, 0.423802, Val loss:, 0.437247, --- 0.1568 seconds --- lr: 0.01\n",
      "23, / ,100, epoch,Train loss:, 0.428819, Val loss:, 0.420384, --- 0.1559 seconds --- lr: 0.01\n",
      "24, / ,100, epoch,Train loss:, 0.423059, Val loss:, 0.422078, --- 0.1548 seconds --- lr: 0.01\n",
      "25, / ,100, epoch,Train loss:, 0.427012, Val loss:, 0.435262, --- 0.1559 seconds --- lr: 0.01\n",
      "26, / ,100, epoch,Train loss:, 0.420386, Val loss:, 0.420382, --- 0.1557 seconds --- lr: 0.01\n",
      "27, / ,100, epoch,Train loss:, 0.427892, Val loss:, 0.420017, --- 0.1554 seconds --- lr: 0.01\n",
      "28, / ,100, epoch,Train loss:, 0.428701, Val loss:, 0.418257, --- 0.1615 seconds --- lr: 0.01\n",
      "29, / ,100, epoch,Train loss:, 0.425977, Val loss:, 0.421940, --- 0.1549 seconds --- lr: 0.01\n",
      "30, / ,100, epoch,Train loss:, 0.421932, Val loss:, 0.417925, --- 0.1540 seconds --- lr: 0.01\n",
      "31, / ,100, epoch,Train loss:, 0.425095, Val loss:, 0.418526, --- 0.1555 seconds --- lr: 0.01\n",
      "32, / ,100, epoch,Train loss:, 0.418243, Val loss:, 0.423083, --- 0.1546 seconds --- lr: 0.01\n",
      "33, / ,100, epoch,Train loss:, 0.418063, Val loss:, 0.420101, --- 0.1550 seconds --- lr: 0.01\n",
      "34, / ,100, epoch,Train loss:, 0.416898, Val loss:, 0.431847, --- 0.1551 seconds --- lr: 0.01\n",
      "35, / ,100, epoch,Train loss:, 0.423280, Val loss:, 0.432221, --- 0.1538 seconds --- lr: 0.01\n",
      "36, / ,100, epoch,Train loss:, 0.418425, Val loss:, 0.417343, --- 0.1595 seconds --- lr: 0.01\n",
      "37, / ,100, epoch,Train loss:, 0.424401, Val loss:, 0.430646, --- 0.1571 seconds --- lr: 0.01\n",
      "38, / ,100, epoch,Train loss:, 0.419800, Val loss:, 0.417031, --- 0.1560 seconds --- lr: 0.01\n",
      "39, / ,100, epoch,Train loss:, 0.414941, Val loss:, 0.418465, --- 0.1555 seconds --- lr: 0.01\n",
      "40, / ,100, epoch,Train loss:, 0.418862, Val loss:, 0.417104, --- 0.1540 seconds --- lr: 0.01\n",
      "41, / ,100, epoch,Train loss:, 0.416995, Val loss:, 0.411343, --- 0.1548 seconds --- lr: 0.01\n",
      "42, / ,100, epoch,Train loss:, 0.419956, Val loss:, 0.436644, --- 0.1557 seconds --- lr: 0.01\n",
      "43, / ,100, epoch,Train loss:, 0.428669, Val loss:, 0.412994, --- 0.1542 seconds --- lr: 0.01\n",
      "44, / ,100, epoch,Train loss:, 0.421831, Val loss:, 0.410105, --- 0.1544 seconds --- lr: 0.01\n",
      "45, / ,100, epoch,Train loss:, 0.423038, Val loss:, 0.480066, --- 0.1549 seconds --- lr: 0.01\n",
      "46, / ,100, epoch,Train loss:, 0.416210, Val loss:, 0.415247, --- 0.1548 seconds --- lr: 0.01\n",
      "47, / ,100, epoch,Train loss:, 0.422176, Val loss:, 0.411853, --- 0.1547 seconds --- lr: 0.01\n",
      "48, / ,100, epoch,Train loss:, 0.423051, Val loss:, 0.416933, --- 0.1546 seconds --- lr: 0.01\n",
      "49, / ,100, epoch,Train loss:, 0.432815, Val loss:, 0.440548, --- 0.1559 seconds --- lr: 0.01\n",
      "50, / ,100, epoch,Train loss:, 0.433432, Val loss:, 0.453702, --- 0.1543 seconds --- lr: 0.01\n",
      "51, / ,100, epoch,Train loss:, 0.439072, Val loss:, 0.426579, --- 0.1570 seconds --- lr: 0.01\n",
      "52, / ,100, epoch,Train loss:, 0.416248, Val loss:, 0.419240, --- 0.1543 seconds --- lr: 0.01\n",
      "53, / ,100, epoch,Train loss:, 0.416853, Val loss:, 0.409531, --- 0.1559 seconds --- lr: 0.01\n",
      "54, / ,100, epoch,Train loss:, 0.410757, Val loss:, 0.422333, --- 0.1572 seconds --- lr: 0.01\n",
      "55, / ,100, epoch,Train loss:, 0.420004, Val loss:, 0.414137, --- 0.1546 seconds --- lr: 0.01\n",
      "56, / ,100, epoch,Train loss:, 0.416585, Val loss:, 0.412745, --- 0.1541 seconds --- lr: 0.01\n",
      "57, / ,100, epoch,Train loss:, 0.421374, Val loss:, 0.452732, --- 0.1550 seconds --- lr: 0.01\n",
      "58, / ,100, epoch,Train loss:, 0.429774, Val loss:, 0.412575, --- 0.1554 seconds --- lr: 0.01\n",
      "59, / ,100, epoch,Train loss:, 0.414728, Val loss:, 0.488362, --- 0.1533 seconds --- lr: 0.01\n",
      "60, / ,100, epoch,Train loss:, 0.443501, Val loss:, 0.421974, --- 0.1549 seconds --- lr: 0.01\n",
      "61, / ,100, epoch,Train loss:, 0.411174, Val loss:, 0.408601, --- 0.1543 seconds --- lr: 0.01\n",
      "62, / ,100, epoch,Train loss:, 0.404731, Val loss:, 0.417638, --- 0.1537 seconds --- lr: 0.01\n",
      "63, / ,100, epoch,Train loss:, 0.429602, Val loss:, 0.415376, --- 0.1552 seconds --- lr: 0.01\n",
      "64, / ,100, epoch,Train loss:, 0.423904, Val loss:, 0.406028, --- 0.1614 seconds --- lr: 0.01\n",
      "65, / ,100, epoch,Train loss:, 0.417057, Val loss:, 0.410532, --- 0.1542 seconds --- lr: 0.01\n",
      "66, / ,100, epoch,Train loss:, 0.415248, Val loss:, 0.417803, --- 0.1556 seconds --- lr: 0.01\n",
      "67, / ,100, epoch,Train loss:, 0.413754, Val loss:, 0.445185, --- 0.1534 seconds --- lr: 0.01\n",
      "68, / ,100, epoch,Train loss:, 0.428355, Val loss:, 0.411761, --- 0.1548 seconds --- lr: 0.01\n",
      "69, / ,100, epoch,Train loss:, 0.411338, Val loss:, 0.410194, --- 0.1549 seconds --- lr: 0.01\n",
      "70, / ,100, epoch,Train loss:, 0.415507, Val loss:, 0.412444, --- 0.1561 seconds --- lr: 0.01\n",
      "71, / ,100, epoch,Train loss:, 0.414126, Val loss:, 0.411272, --- 0.1540 seconds --- lr: 0.01\n",
      "72, / ,100, epoch,Train loss:, 0.410689, Val loss:, 0.407474, --- 0.1638 seconds --- lr: 0.01\n",
      "73, / ,100, epoch,Train loss:, 0.410483, Val loss:, 0.409978, --- 0.1539 seconds --- lr: 0.01\n",
      "74, / ,100, epoch,Train loss:, 0.401411, Val loss:, 0.414876, --- 0.1534 seconds --- lr: 0.01\n",
      "75, / ,100, epoch,Train loss:, 0.411223, Val loss:, 0.418351, --- 0.1555 seconds --- lr: 0.01\n",
      "76, / ,100, epoch,Train loss:, 0.418614, Val loss:, 0.425270, --- 0.1547 seconds --- lr: 0.01\n",
      "77, / ,100, epoch,Train loss:, 0.407595, Val loss:, 0.402923, --- 0.1552 seconds --- lr: 0.01\n",
      "78, / ,100, epoch,Train loss:, 0.394374, Val loss:, 0.427039, --- 0.1555 seconds --- lr: 0.01\n",
      "79, / ,100, epoch,Train loss:, 0.389615, Val loss:, 0.453439, --- 0.1533 seconds --- lr: 0.01\n",
      "80, / ,100, epoch,Train loss:, 0.388304, Val loss:, 0.406884, --- 0.1547 seconds --- lr: 0.01\n",
      "81, / ,100, epoch,Train loss:, 0.387155, Val loss:, 0.395189, --- 0.1559 seconds --- lr: 0.01\n",
      "82, / ,100, epoch,Train loss:, 0.381458, Val loss:, 0.405865, --- 0.1537 seconds --- lr: 0.01\n",
      "83, / ,100, epoch,Train loss:, 0.377896, Val loss:, 0.394895, --- 0.1558 seconds --- lr: 0.01\n",
      "84, / ,100, epoch,Train loss:, 0.369293, Val loss:, 0.408343, --- 0.1543 seconds --- lr: 0.01\n",
      "85, / ,100, epoch,Train loss:, 0.372440, Val loss:, 0.393130, --- 0.1554 seconds --- lr: 0.01\n",
      "86, / ,100, epoch,Train loss:, 0.365163, Val loss:, 0.397281, --- 0.1557 seconds --- lr: 0.01\n",
      "87, / ,100, epoch,Train loss:, 0.376842, Val loss:, 0.388387, --- 0.1544 seconds --- lr: 0.01\n",
      "88, / ,100, epoch,Train loss:, 0.375520, Val loss:, 0.406996, --- 0.1605 seconds --- lr: 0.01\n",
      "89, / ,100, epoch,Train loss:, 0.361805, Val loss:, 0.389202, --- 0.1620 seconds --- lr: 0.01\n",
      "90, / ,100, epoch,Train loss:, 0.356037, Val loss:, 0.383620, --- 0.1542 seconds --- lr: 0.01\n",
      "91, / ,100, epoch,Train loss:, 0.343704, Val loss:, 0.372829, --- 0.1554 seconds --- lr: 0.01\n",
      "92, / ,100, epoch,Train loss:, 0.344724, Val loss:, 0.375677, --- 0.1548 seconds --- lr: 0.01\n",
      "93, / ,100, epoch,Train loss:, 0.349830, Val loss:, 0.375566, --- 0.1538 seconds --- lr: 0.01\n",
      "94, / ,100, epoch,Train loss:, 0.347253, Val loss:, 0.366449, --- 0.1535 seconds --- lr: 0.01\n",
      "95, / ,100, epoch,Train loss:, 0.344512, Val loss:, 0.370987, --- 0.1545 seconds --- lr: 0.01\n",
      "96, / ,100, epoch,Train loss:, 0.341323, Val loss:, 0.355491, --- 0.1552 seconds --- lr: 0.01\n",
      "97, / ,100, epoch,Train loss:, 0.337900, Val loss:, 0.366082, --- 0.1543 seconds --- lr: 0.01\n",
      "98, / ,100, epoch,Train loss:, 0.364768, Val loss:, 0.341307, --- 0.1591 seconds --- lr: 0.01\n",
      "99, / ,100, epoch,Train loss:, 0.337477, Val loss:, 0.347337, --- 0.1543 seconds --- lr: 0.01\n"
     ]
    }
   ],
   "source": [
    "log_str_full = ''\n",
    "best_test_mse = 10000.0\n",
    "early_stopping = 0\n",
    "# loss function\n",
    "criterion = loss\n",
    "\n",
    "training_losses = []\n",
    "\n",
    "\n",
    "for epoch in range(epochs):\n",
    "    loss_val, loss_train = 0.0, 0.0\n",
    "    start_time = time.time()\n",
    "    ####################\n",
    "    # Train\n",
    "    ####################\n",
    "    count = 0\n",
    "    model.train()\n",
    "    for x, y in train_loader:\n",
    "        x, y = x.to(device), y.to(device)\n",
    "        batch_size = x.shape[0]\n",
    "        count += batch_size\n",
    "        preds = model(x)\n",
    "        # unsupervised loss\n",
    "        # train_loss = -torch.mean(preds*(x[:,-1]==-1)) + w*torch.mean(F.relu(x[:,0]-preds) + F.relu(preds-x[:,1])) #+ criterion(preds, y)\n",
    "        # supervised loss + unsupervised loss\n",
    "        #train_loss = -torch.mean(preds[:,target]) + 10.0*torch.mean( F.relu(x[:,0]-preds) + F.relu(preds-x[:,1]) ) + criterion(preds, y)\n",
    "        #supervised loss\n",
    "        preds = preds.unsqueeze(2)\n",
    "        # print(preds)\n",
    "        # print(y.shape)\n",
    "        train_loss = criterion(preds, y)\n",
    "\n",
    "        opt.zero_grad()\n",
    "        train_loss.backward()\n",
    "        opt.step()\n",
    "        loss_train += train_loss.item() * batch_size\n",
    "\n",
    "    loss_train /= count\n",
    "    outstrtrain = 'Train loss:, %.6f, ' % (loss_train)\n",
    "    ####################\n",
    "    # Val\n",
    "    ####################\n",
    "    count = 0\n",
    "    model.eval()\n",
    "    with torch.no_grad():\n",
    "        for x, y in val_loader:\n",
    "            x, y = x.to(device), y.to(device)\n",
    "            batch_size = x.shape[0]\n",
    "            count += batch_size\n",
    "            preds = model(x)\n",
    "            preds = preds.unsqueeze(2)\n",
    "            val_loss = criterion(preds, y)\n",
    "            loss_val += val_loss.item() * batch_size\n",
    "\n",
    "        loss_val /= count\n",
    "    outstrval = 'Val loss:, %.6f, ' % (loss_val)\n",
    "    scheduler.step(loss_val)\n",
    "\n",
    "    ## save losses\n",
    "    training_losses.append(loss_val)\n",
    "\n",
    "    duration = \"--- %.4f seconds ---\" % (time.time() - start_time)\n",
    "    log_str = (\"%d, / ,%d, epoch,\" % (epoch, epochs))+outstrtrain+outstrval+duration+' lr: '+str(opt.param_groups[0]['lr'])\n",
    "    log_str_full += log_str + '\\n'\n",
    "    print(log_str)\n",
    "\n",
    "    ####################\n",
    "    # Save weights\n",
    "    ####################\n",
    "    save_perform = loss_val\n",
    "    if save_perform <= best_test_mse:\n",
    "        early_stopping = 0\n",
    "        best_test_mse = save_perform\n",
    "        # torch.save(model.state_dict(), log_path + '/model.t7')\n",
    "    else:\n",
    "        early_stopping += 1\n",
    "    if early_stopping > 1000 or epoch == (epochs-1):\n",
    "        # torch.save(model.state_dict(), log_path + '/model_latest.t7')\n",
    "        break\n"
   ]
  },
  {
   "cell_type": "code",
   "execution_count": 22,
   "metadata": {},
   "outputs": [
    {
     "name": "stdout",
     "output_type": "stream",
     "text": [
      "Test loss:, 0.043668, \n"
     ]
    }
   ],
   "source": [
    "####################\n",
    "# Testing\n",
    "####################\n",
    "results = {}\n",
    "results['pred']=[]\n",
    "results['label']=[]\n",
    "results['bound']=[]\n",
    "results['M_label'] = []\n",
    "results['M_pred'] = []\n",
    "# model.load_state_dict(torch.load(log_path + '/model.t7'))\n",
    "model.eval()\n",
    "loss_test = 0.0\n",
    "count = 0\n",
    "sum_y = 0\n",
    "with torch.no_grad():\n",
    "    for i, (x, y) in enumerate(test_loader):\n",
    "        x, y = x.to(device), y.to(device)\n",
    "        batch_size = x.shape[0]\n",
    "        count += batch_size\n",
    "        preds = model(x)\n",
    "        preds = preds.unsqueeze(2)\n",
    "        val_loss = criterion(preds, y)\n",
    "        # print(i)\n",
    "        # print(torch.sum(y))\n",
    "        sum_y += torch.sum(y)\n",
    "        loss_test += val_loss.item() * batch_size\n",
    "        results['pred'].append(preds.detach().cpu().numpy())\n",
    "        results['label'].append(y.detach().cpu().numpy())\n",
    "        results['bound'].append(x.detach().cpu().numpy())\n",
    "\n",
    "        #M_label = MFG(y.detach().cpu().numpy(), S2m_neg, S2m_pos)\n",
    "        #M_pred  = MFG(preds.detach().cpu().numpy(), S2m_neg, S2m_pos)\n",
    "\n",
    "        #pk.dump({'M_label': M_label, 'M_pred': M_pred},\n",
    "        #            open(method_name+str(i)+'.pk', 'wb'))\n",
    "\n",
    "results['pred'] = np.concatenate(results['pred'])\n",
    "results['label'] = np.concatenate(results['label'])\n",
    "#results['M_label'] = np.concatenate(results['M_label'])\n",
    "#results['M_pred'] = np.concatenate(results['M_pred'])\n",
    "results['bound'] = np.concatenate(results['bound'])\n",
    "# print(loss_test)\n",
    "# print(sum_y)\n",
    "loss_test /= sum_y\n",
    "outstrtest = 'Test loss:, %.6f, ' % (loss_test)\n",
    "log_str_full += outstrtest\n",
    "print(outstrtest)"
   ]
  },
  {
   "cell_type": "markdown",
   "metadata": {},
   "source": [
    "# Visualizations"
   ]
  },
  {
   "cell_type": "code",
   "execution_count": 23,
   "metadata": {},
   "outputs": [
    {
     "data": {
      "image/png": "[encoded data removed]",
      "text/plain": [
       "<Figure size 600x600 with 1 Axes>"
      ]
     },
     "metadata": {},
     "output_type": "display_data"
    }
   ],
   "source": [
    "fig, ax = plt.subplots(1,1, figsize = (6,6))\n",
    "ax.scatter(x = results['pred'].flatten(), y = results['label'].flatten(), s = 0.11)\n",
    "ax.plot([-10, 20], [-10, 20], ls=\"--\", c=\".3\")\n",
    "ax.set(xlim=(-10, 20), ylim=(-10, 20))\n",
    "ax.set_xlabel(\"Predicted values\")\n",
    "ax.set_ylabel(\"FBA solution ground truth\")\n",
    "ax.set_title(\"ecoli metabolic network\")\n",
    "fig.show()\n",
    "plt.savefig('ecoli_linear_network.pdf', dpi=300)"
   ]
  },
  {
   "cell_type": "code",
   "execution_count": 24,
   "metadata": {},
   "outputs": [
    {
     "data": {
      "text/plain": [
       "(1432,)"
      ]
     },
     "execution_count": 24,
     "metadata": {},
     "output_type": "execute_result"
    }
   ],
   "source": [
    "results['label'].flatten().shape"
   ]
  },
  {
   "cell_type": "code",
   "execution_count": 25,
   "metadata": {},
   "outputs": [
    {
     "data": {
      "text/plain": [
       "(1432,)"
      ]
     },
     "execution_count": 25,
     "metadata": {},
     "output_type": "execute_result"
    }
   ],
   "source": [
    "results['pred'].flatten().shape"
   ]
  },
  {
   "cell_type": "code",
   "execution_count": 26,
   "metadata": {},
   "outputs": [
    {
     "name": "stdout",
     "output_type": "stream",
     "text": [
      "Pearson Correlation Coefficient: 0.8810461703762344\n"
     ]
    }
   ],
   "source": [
    "from scipy.stats import pearsonr\n",
    "pcc, _ = pearsonr(results['label'].flatten(), results['pred'].flatten())\n",
    "print(\"Pearson Correlation Coefficient:\", pcc)\n"
   ]
  }
 ],
 "metadata": {
  "kernelspec": {
   "display_name": "Python 3",
   "language": "python",
   "name": "python3"
  },
  "language_info": {
   "codemirror_mode": {
    "name": "ipython",
    "version": 3
   },
   "file_extension": ".py",
   "mimetype": "text/x-python",
   "name": "python",
   "nbconvert_exporter": "python",
   "pygments_lexer": "ipython3",
   "version": "3.10.12"
  }
 },
 "nbformat": 4,
 "nbformat_minor": 2
}
