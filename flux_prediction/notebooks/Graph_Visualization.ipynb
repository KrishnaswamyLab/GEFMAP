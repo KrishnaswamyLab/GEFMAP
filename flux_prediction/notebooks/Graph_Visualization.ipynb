{
 "cells": [
  {
   "cell_type": "code",
   "execution_count": 1,
   "metadata": {},
   "outputs": [],
   "source": [
    "import graphviz\n",
    "import numpy as np\n",
    "import subprocess\n",
    "import pandas as pd"
   ]
  },
  {
   "cell_type": "code",
   "execution_count": 8,
   "metadata": {},
   "outputs": [],
   "source": [
    "\n",
    "def create_visualization(input_mat, input_node_labels, file_name_str, node_size=0.1, edge_num_to_show=100):\n",
    "    np.fill_diagonal(input_mat, 0) # remove self-loops\n",
    "    # further thresholding: only keep the top edge_num_to_show edges\n",
    "    flat = input_mat.flatten()\n",
    "    flat.sort()\n",
    "    threshold = flat[-edge_num_to_show]\n",
    "    input_mat[input_mat<threshold] = 0\n",
    "    input_mat_min = threshold\n",
    "    input_mat_max = input_mat.max()\n",
    "    graph_matrix = (input_mat - input_mat_min)/(input_mat_max - input_mat_min)\n",
    "    graph_matrix[graph_matrix<0] = 0\n",
    "    # input_nlabel_max = input_node_labels.max()\n",
    "    # input_nlabel_min = input_node_labels.min()\n",
    "    print(input_node_labels)\n",
    "    input_nlabel_max = max(input_node_labels)\n",
    "    input_nlabel_min = min(input_node_labels)\n",
    "    node_labels = (input_node_labels - input_nlabel_min)/(input_nlabel_max - input_nlabel_min)\n",
    "    def float_to_color(a:float):\n",
    "        # theta = a * np.pi / 2\n",
    "        # return cmath.sin(theta), cmath.cos(theta), 1.0\n",
    "        # use HSV color instead\n",
    "        a = a/2\n",
    "        return \"{:.3f}\".format(a) + \" 1.000 1.000\"\n",
    "    def float_to_color2(a:float):\n",
    "        # theta = a * np.pi / 2\n",
    "        # return \"{:.3f} {:.3f}\".format(cmath.sin(theta), cmath.cos(theta)) + \" 1.0\"\n",
    "        # use HSV color instead\n",
    "        a = (a + 1)/2\n",
    "        return \"{:.3f}\".format(a) + \" 1.000 0.6\"\n",
    "    g = graphviz.Digraph('G', filename='hello.gv')\n",
    "    # globa attributes\n",
    "    g.attr(scale='3')\n",
    "    # create nodes\n",
    "    for node_idx, node_label in enumerate(node_labels):\n",
    "        color_rgb = float_to_color(node_label)\n",
    "        # set the attribute of the current node\n",
    "        g.attr('node', label='', style='filled', shape='circle', fontsize='5', margin=\"0,0\", width=str(node_size), height=str(node_size))\n",
    "        # g.attr('node', shape='circle', fontsize='5', margin=\"0,0\", width=\"0.1\", height=\"0.1\")\n",
    "        g.attr('node', color=color_rgb)\n",
    "        # create node\n",
    "        # g.node(str(node_idx), str(node_label))\n",
    "        g.node(str(node_idx))\n",
    "    # create edges\n",
    "    for (idx_start,idx_end), val in np.ndenumerate(graph_matrix):\n",
    "        #  set the attribute of the current edge (mainly to alter the edge width)\n",
    "        # g.attr(size='0.5')\n",
    "        # create edge\n",
    "        # g.edge(str(idx_start),str(idx_end), label=str(val))\n",
    "        if val > 0:\n",
    "            color_rgb2 = float_to_color2(val)\n",
    "            g.attr('edge', arrowsize='0.05', penwidth=str(0.05*np.exp(1+val)), color=color_rgb2)\n",
    "            g.edge(str(idx_start),str(idx_end))\n",
    "    with open(file_name_str+\".dot\", 'w') as f:\n",
    "        f.write(g.source)\n",
    "    subprocess.run([\"neato -Tpdf \"+file_name_str+\".dot\"+\" > \"+str(file_name_str)+\".pdf\"], check=True, shell=True)"
   ]
  },
  {
   "cell_type": "code",
   "execution_count": 3,
   "metadata": {},
   "outputs": [],
   "source": [
    "import pickle as pk\n",
    "out_path = '/home/sv496/project/metabolic_graph/data/E.coli_data/'\n",
    "\n",
    "with open(out_path+ 'aug_NN_features.pk', 'rb') as b:\n",
    "    graph_obj = pk.load(b)\n",
    "\n",
    "S_matrix = pd.read_csv(out_path + 'S_matrix.csv', index_col = 0)"
   ]
  },
  {
   "cell_type": "code",
   "execution_count": 4,
   "metadata": {},
   "outputs": [],
   "source": [
    "S_bool = S_matrix[S_matrix == 0].fillna(1).to_numpy()\n",
    "RAG = np.matmul(np.transpose(S_bool), S_bool)\n",
    "# RAG = pd.DataFrame(RAG, index = S_matrix.columns, columns = S_matrix.columns)"
   ]
  },
  {
   "cell_type": "code",
   "execution_count": 6,
   "metadata": {},
   "outputs": [],
   "source": [
    "bounds = graph_obj['bounds']\n",
    "solutions = graph_obj['solutions_mwclique']"
   ]
  },
  {
   "cell_type": "code",
   "execution_count": 10,
   "metadata": {},
   "outputs": [
    {
     "name": "stdout",
     "output_type": "stream",
     "text": [
      "[  9.16716044   4.01914797   9.16716044 -18.33432088  -0.\n",
      " -12.81597346  -0.         -18.33432088  -0.         -12.81597346\n",
      "  -0.          -2.88734364   0.          -0.          -0.\n",
      "   8.39        -0.          -2.88734364   0.          -0.\n",
      "   0.           4.39363052   2.88734364   9.16716044   0.\n",
      "  -0.         -11.68416914  -0.           0.          -0.\n",
      "   0.           1.75553932  -2.63100377  18.33432088  -0.\n",
      " -12.81597346   1.60139578  -0.          -0.           0.\n",
      "  -0.          -0.           9.16716044   2.88734364   0.\n",
      "   0.          11.68416914  12.81597346   4.01914797   0.\n",
      "   0.          -9.16716044   0.           0.           9.53749538\n",
      "  -1.13180432   2.63100377   0.          -0.          -0.\n",
      "  -0.           0.           0.           9.16716044   0.\n",
      "   0.          -4.01914797   1.60139578  -0.          -0.\n",
      "  -0.          -0.          18.33432088   9.16716044  17.22529504\n",
      "  -0.          17.22529504   0.          17.22529504  -0.\n",
      "   0.           1.13180432  -0.          -0.          -2.63100377\n",
      "  -0.          -0.          -0.           0.           0.\n",
      "   1.75553932  -0.          -0.          -0.          11.68416914]\n"
     ]
    }
   ],
   "source": [
    "create_visualization(RAG, solutions[0], 'ecoli_graph')"
   ]
  }
 ],
 "metadata": {
  "kernelspec": {
   "display_name": "Python 3",
   "language": "python",
   "name": "python3"
  },
  "language_info": {
   "codemirror_mode": {
    "name": "ipython",
    "version": 3
   },
   "file_extension": ".py",
   "mimetype": "text/x-python",
   "name": "python",
   "nbconvert_exporter": "python",
   "pygments_lexer": "ipython3",
   "version": "3.10.12"
  }
 },
 "nbformat": 4,
 "nbformat_minor": 2
}
