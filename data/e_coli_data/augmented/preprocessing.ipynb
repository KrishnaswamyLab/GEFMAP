{
 "cells": [
  {
   "cell_type": "code",
   "execution_count": 1,
   "metadata": {},
   "outputs": [
    {
     "name": "stdout",
     "output_type": "stream",
     "text": [
      "CUDA is not available.\n",
      "+--------------+-----------------------+\n",
      "| ORGANISM     | MODEL_SBML            |\n",
      "+==============+=======================+\n",
      "| ECOLI_core   | e_coli_core_SBML3.xml |\n",
      "+--------------+-----------------------+\n",
      "| mus_musculus | mus_iMM1415.xml       |\n",
      "+--------------+-----------------------+\n",
      "| homo_sapiens | Recon3D.xml           |\n",
      "+--------------+-----------------------+\n"
     ]
    }
   ],
   "source": [
    "%load_ext autoreload\n",
    "%autoreload 2\n",
    "\n",
    "import sys\n",
    "import os\n",
    "import matplotlib.pyplot as plt\n",
    "import seaborn as sns\n",
    "import networkx as nx\n",
    "import scipy.sparse as sp\n",
    "import torch\n",
    "\n",
    "outs_dir = os.path.abspath('.')\n",
    "\n",
    "module_path = os.path.abspath(os.path.join('../../../src/'))\n",
    "if module_path not in sys.path:\n",
    "    sys.path.append(module_path)\n",
    "\n",
    "from utils import *\n",
    "from utils_ecoli import *\n",
    "from GSMM import *\n",
    "check_device()\n",
    "print(models_)"
   ]
  },
  {
   "cell_type": "code",
   "execution_count": 2,
   "metadata": {},
   "outputs": [
    {
     "name": "stdout",
     "output_type": "stream",
     "text": [
      "loading e_coli_core_SBML3.xml...\n",
      "137 genes\n",
      "72 metabolites\n",
      "95 reactions with bound max 1000\n"
     ]
    }
   ],
   "source": [
    "#GEM\n",
    "models_dir = os.path.abspath('../../../src/sbml_models/')\n",
    "organism = \"ECOLI_core\"\n",
    "sbml_file = libsbml.readSBMLFromFile(os.path.join(models_dir, models[organism]))\n",
    "\n",
    "gene_exp_scale = 10\n",
    "bound_max = 1000\n",
    "model = metabolic_model(organism, sbml_file, bound_max=bound_max)\n",
    "m_model = model #copy to save\n",
    "\n",
    "#get GSMM graph params\n",
    "S = model.S\n",
    "S_matrix = model.S_matrix\n",
    "reactions = list(model.reactions.keys())\n",
    "metabolites = list(model.metabolites.keys())\n",
    "\n",
    "S_bool = np.array(S_matrix.astype('bool').astype('int'))\n",
    "RAG = np.matmul(S_bool.T, S_bool)\n",
    "adj = RAG.astype('bool').astype('int') \n",
    "adj = adj - np.identity(adj.shape[0]) #remove self loops ##symmetric boolean adj matrix\n",
    "A = sp.csr_matrix(adj)\n",
    "G = nx.from_scipy_sparse_array(A)"
   ]
  },
  {
   "cell_type": "code",
   "execution_count": 3,
   "metadata": {},
   "outputs": [
    {
     "name": "stdout",
     "output_type": "stream",
     "text": [
      "reactants: {'M_o2_e': 1.0} \n",
      " products: {} \n",
      " is exchange: True \n",
      "\n",
      "reactants: {'M_o2_e': 1.0} \n",
      " products: {'M_o2_c': 1.0} \n",
      " is exchange: False \n",
      "\n",
      "R_BIOMASS_Ecoli_core_w_GAM...........(ub,lb) (0.0, 1000)\n",
      "index: 51\n",
      "R_BIOMASS_Ecoli_core_w_GAM...........(ub,lb) (0.0, 1000)\n",
      "index: 15\n",
      "R_BIOMASS_Ecoli_core_w_GAM...........(ub,lb) (0.0, 1000)\n",
      "index: 24\n"
     ]
    }
   ],
   "source": [
    "'''\n",
    "Metabolic Model Params\n",
    "----------------\n",
    "R_EX_o2_e________________________ O2 exchange\n",
    "R_O2t___________________________ spontaneous diffusion via environmental gradient O2t\n",
    "      anaerobic condition:  lower bound of the O2 exchange reaction zero flux\n",
    "      (can model anaerobic as lb=0)\n",
    "      R_EX_o2_e [ub,lb] = [0, 1000]\n",
    "\n",
    "R_EX_glc__D_e____________________ glucose uptake\n",
    "      lb_gluc = -18.5\n",
    "      exchange reaction written as export, so limit lb not ub\n",
    "R_ATPM ___________________________ ATP maintenance\n",
    "      The ATP maintenance reaction (ATPM) is set with a lower bound of 0 and an upper bound of +8.39 \n",
    "R_BIOMASS_Ecoli_core_w_GAM________ Biomass\n",
    "      \n",
    "\n",
    "'''\n",
    "\n",
    "for rx in ['R_EX_o2_e', 'R_O2t']: \n",
    "      rx = m_model.reactions[rx]\n",
    "      print(f'reactants: {rx.reactants} \\n',\n",
    "            f'products: {rx.products} \\n',\n",
    "            f'is exchange: {rx.is_exchange()} \\n'\n",
    "            )\n",
    "      \n",
    "for rx in ['R_EX_glc__D_e', 'R_ATPM', 'R_BIOMASS_Ecoli_core_w_GAM']:\n",
    "      rx_idx = S_matrix.columns.get_loc(rx)\n",
    "      r_ = m_model.reactions['R_BIOMASS_Ecoli_core_w_GAM']\n",
    "      print(f'{r_.id}...........(ub,lb) {r_.lb, r_.ub}')\n",
    "      print(f'index: {rx_idx}')\n",
    "\n",
    "\n",
    "#check exchange\n",
    "def check_exchange(m_model):\n",
    "      for key, val in list(m_model.reactions.items()):\n",
    "            if val.is_exchange() is True:\n",
    "                  print(f'{key}......... {val.reversible} .... {list(val.reactants.keys())}, {list(val.products.keys())}')\n",
    "\n",
    "\n",
    "# check_exchange(m_model)"
   ]
  },
  {
   "cell_type": "code",
   "execution_count": 4,
   "metadata": {},
   "outputs": [
    {
     "name": "stdout",
     "output_type": "stream",
     "text": [
      "genes in both:  137 \n",
      " genes in model:  137\n"
     ]
    },
    {
     "data": {
      "image/png": "[encoded data removed]",
      "text/plain": [
       "<Figure size 1200x300 with 2 Axes>"
      ]
     },
     "metadata": {},
     "output_type": "display_data"
    }
   ],
   "source": [
    "# original sequencing data\n",
    "data_path = os.path.abspath('./../original/')\n",
    "metadata = pd.read_csv(os.path.join(data_path, 'metadata.csv'), index_col = 0)\n",
    "log_tpm = pd.read_csv(os.path.join(data_path, 'log_tpm.csv'), index_col = 0)\n",
    "\n",
    "#renormalize\n",
    "raw_data = 2**log_tpm\n",
    "data_norm = np.sqrt(raw_data)\n",
    "\n",
    "#format to match GSMM labels\n",
    "data_norm.index = data_norm.index.str.upper()\n",
    "####S0001 == B0002\n",
    "data_norm.rename(index={'B0002':'S0001'}, inplace= True)\n",
    "\n",
    "##rm \n",
    "'''\n",
    "failed........(236, 'fps__fps_ptsI_ale1__1') with error 2\n",
    "failed........(237, 'fps__fps_ptsI_ale1__2') with error 2\n",
    "failed........(238, 'fps__fps_ptsI_ale3__1') with error 2\n",
    "failed........(239, 'fps__fps_ptsI_ale3__2') with error 2\n",
    "failed........(236, 'fps__fps_ptsI_ale1__1') with error 2\n",
    "failed........(237, 'fps__fps_ptsI_ale1__2') with error 2\n",
    "failed........(238, 'fps__fps_ptsI_ale3__1') with error 2\n",
    "failed........(239, 'fps__fps_ptsI_ale3__2') with error 2\n",
    "'''\n",
    "\n",
    "data_norm.drop(data_norm.columns[236:240], axis=1, inplace = True)\n",
    "metadata.drop(metadata.index[236:240], axis=0, inplace = True)\n",
    "\n",
    "model_genes = list(model.genes.values())\n",
    "print('genes in both: ', np.isin(data_norm.index, model_genes).astype('int').sum(), '\\n',\n",
    "      'genes in model: ', len(model_genes) \n",
    "     )\n",
    "\n",
    "reaction_exp_matrix = map_reactions(model, data_norm)\n",
    "R_, srm_ = scale_reaction_matrix(reaction_exp_matrix, gene_exp_scale, plot= True)\n",
    "R, srm = merge_tx_model(model, R_, srm_)"
   ]
  },
  {
   "cell_type": "code",
   "execution_count": 5,
   "metadata": {},
   "outputs": [],
   "source": [
    "from GSMM import *"
   ]
  },
  {
   "cell_type": "code",
   "execution_count": 6,
   "metadata": {},
   "outputs": [
    {
     "name": "stderr",
     "output_type": "stream",
     "text": [
      "/Users/hollysteach/Documents/GitHub/metabolic_GNN/src/utils.py:58: UserWarning: torch.sparse.SparseTensor(indices, values, shape, *, device=) is deprecated.  Please use torch.sparse_coo_tensor(indices, values, shape, dtype=, device=). (Triggered internally at /Users/runner/work/_temp/anaconda/conda-bld/pytorch_1695391829313/work/torch/csrc/utils/tensor_new.cpp:607.)\n",
      "  return torch.sparse.FloatTensor(indices, values, shape)\n"
     ]
    },
    {
     "name": "stdout",
     "output_type": "stream",
     "text": [
      "R_ATPM bounds set to.......  -10.0 1000\n",
      "R_EX_glc__D_e bounds set to.......  8.39 1000\n"
     ]
    },
    {
     "data": {
      "image/png": "[encoded data removed]",
      "text/plain": [
       "<Figure size 640x480 with 1 Axes>"
      ]
     },
     "metadata": {},
     "output_type": "display_data"
    }
   ],
   "source": [
    "graph = base_graph(G, m_model)\n",
    "graph.get_input_features(srm, R)\n",
    "FBA = FBA_ecoli(graph)\n",
    "bounds = FBA.get_constrained_bounds()\n",
    "mw_nodes, mw_weights, mw_node_len = FBA.get_gt_clique()\n",
    "biomass_obj, gt_clique_obj = FBA.get_gt_obj()\n",
    "RES_b, RES_c, solutions_b, solutions_c, failed, f_rm = FBA.get_lp_solutions(S_matrix)\n",
    "\n",
    "b_max = [r.fun for r in RES_b]\n",
    "c_max = [r.fun for r in RES_c]\n",
    "\n",
    "plt.scatter(x = c_max, y = b_max)\n",
    "plt.xticks([])\n",
    "plt.yticks([])\n",
    "plt.xlabel('MWCq Obj solutions', size = 14)\n",
    "plt.ylabel('Biomass Obj solutions', size = 14)\n",
    "plt.show()"
   ]
  },
  {
   "cell_type": "code",
   "execution_count": 7,
   "metadata": {},
   "outputs": [],
   "source": [
    "from GSMM import *\n",
    "from utils_ecoli import *\n",
    "def run_FBA(base_graph, srm, R, S_matrix):\n",
    "    base_graph.get_input_features(srm, R)\n",
    "    FBA = FBA_ecoli(base_graph, verbose = False)\n",
    "    FBA.get_constrained_bounds(return_bounds= False)\n",
    "    FBA.get_gt_clique(return_vals = False)\n",
    "    FBA.get_gt_obj(return_objectives = False)\n",
    "    FBA.get_lp_solutions(S_matrix, return_vals = False)\n",
    "    return FBA\n"
   ]
  },
  {
   "cell_type": "code",
   "execution_count": 53,
   "metadata": {},
   "outputs": [
    {
     "name": "stdout",
     "output_type": "stream",
     "text": [
      "saving vars for iter 2\n",
      "saving vars for iter 3\n",
      "saving vars for iter 4\n",
      "saving vars for iter 5\n",
      "saving vars for iter 6\n",
      "saving vars for iter 7\n",
      "saving vars for iter 8\n",
      "saving vars for iter 9\n",
      "saving vars for iter 10\n",
      "saving vars for iter 11\n"
     ]
    }
   ],
   "source": [
    "target_samples = 3000\n",
    "noise_std = 1.5\n",
    "\n",
    "if 'gene_exp_scale' not in globals():\n",
    "    print(f'need to define gene_exp_scale...... setting to default = 10')\n",
    "    gene_exp_scale = 10\n",
    "\n",
    "n_ = 1\n",
    "n_included = []\n",
    "success = 0\n",
    "\n",
    "n_samples = srm.shape[0]\n",
    "aug_iter =( target_samples // n_samples)\n",
    "\n",
    "inputs_save = []\n",
    "outs_save = []\n",
    "\n",
    "\n",
    "while success < aug_iter:\n",
    "    n_ += 1\n",
    "    np.random.seed(n_)\n",
    "    gene_exp_noisy = data_norm + np.random.normal(0, noise_std, data_norm.shape)\n",
    "    gene_exp_noisy = gene_exp_noisy.abs()\n",
    "    reaction_exp_matrix_noisy = map_reactions(model, gene_exp_noisy)\n",
    "    R_, srm_ = scale_reaction_matrix(reaction_exp_matrix_noisy, gene_exp_scale, plot= False)\n",
    "    R_n, srm_n = merge_tx_model(model, R_, srm_)\n",
    "    \n",
    "    FBA = run_FBA(graph, srm_n, R_n, S_matrix)\n",
    "\n",
    "    if FBA.failed > 0:\n",
    "        print(f'failed for iter {n_}')\n",
    "        continue\n",
    "    else:\n",
    "        print(f'saving vars for iter {n_}')\n",
    "        n_included += [n_]\n",
    "        inputs_save += [[gene_exp_noisy, R_n, srm_n]]\n",
    "        outs_save += [FBA]\n",
    "        success += 1\n",
    "    \n",
    "    "
   ]
  },
  {
   "cell_type": "code",
   "execution_count": 82,
   "metadata": {},
   "outputs": [],
   "source": [
    "# save augmented dsets\n",
    "data_aug = pd.concat([f[0] for f in inputs_save], axis = 1)\n",
    "R_aug = pd.concat([f[1] for f in inputs_save], axis = 0)\n",
    "srm_aug = pd.concat([f[2] for f in inputs_save], axis = 0)\n",
    "\n",
    "d = pd.concat([data_norm, data_aug], axis = 1)\n",
    "r = pd.concat([R, R_aug], axis = 0)\n",
    "s = pd.concat([srm, srm_aug], axis = 0)\n"
   ]
  },
  {
   "cell_type": "code",
   "execution_count": 106,
   "metadata": {},
   "outputs": [],
   "source": [
    "sample_labels = srm.index\n",
    "aug_labels = sample_labels.tolist()\n",
    "for i, n in enumerate(n_included):\n",
    "    aug_labels += [f'{s}_{i}' for s in sample_labels]"
   ]
  },
  {
   "cell_type": "code",
   "execution_count": 111,
   "metadata": {},
   "outputs": [],
   "source": [
    "r.index = aug_labels\n",
    "s.index = aug_labels"
   ]
  },
  {
   "cell_type": "code",
   "execution_count": 112,
   "metadata": {},
   "outputs": [],
   "source": [
    "\n",
    "aug_data = {'data_aug':d,\n",
    "            'R_aug': r,\n",
    "            'srm_aug':s}\n",
    "\n",
    "pk_save(obj=aug_data, fname= os.path.join(outs_dir, 'aug_data_dict.pk'))"
   ]
  },
  {
   "cell_type": "code",
   "execution_count": 10,
   "metadata": {},
   "outputs": [],
   "source": [
    "original_FBA = run_FBA(graph, srm, R, S_matrix)"
   ]
  },
  {
   "cell_type": "code",
   "execution_count": 11,
   "metadata": {},
   "outputs": [],
   "source": [
    "combined_outs = {}\n",
    "\n",
    "def save_combined(c_list):\n",
    "    c = [item for sublist in c_list for item in sublist]\n",
    "    return c\n",
    "\n",
    "c_list = [original_FBA.bounds] + [f.bounds for f in outs_save]\n",
    "c = save_combined(c_list)\n",
    "combined_outs['bounds'] = c\n",
    "\n",
    "c_list = [original_FBA.mw_nodes] + [f.mw_nodes for f in outs_save]\n",
    "c = save_combined(c_list)\n",
    "combined_outs['mw_nodes'] = c\n",
    "\n",
    "c_list = [original_FBA.gt_clique_obj] + [f.gt_clique_obj for f in outs_save]\n",
    "c = save_combined(c_list)\n",
    "combined_outs['gt_clique_obj'] = c\n",
    "\n",
    "c_list = [original_FBA.RES_b] + [f.RES_b for f in outs_save]\n",
    "c = save_combined(c_list)\n",
    "combined_outs['RES_b'] = c\n",
    "\n",
    "c_list = [original_FBA.RES_c] + [f.RES_c for f in outs_save]\n",
    "c = save_combined(c_list)\n",
    "combined_outs['RES_c'] = c\n",
    "\n",
    "pk_save(obj=combined_outs, fname= os.path.join(outs_dir, 'combined_outs.pk'))\n"
   ]
  },
  {
   "cell_type": "code",
   "execution_count": null,
   "metadata": {},
   "outputs": [],
   "source": []
  },
  {
   "cell_type": "code",
   "execution_count": null,
   "metadata": {},
   "outputs": [],
   "source": []
  },
  {
   "cell_type": "code",
   "execution_count": null,
   "metadata": {},
   "outputs": [],
   "source": []
  },
  {
   "cell_type": "code",
   "execution_count": null,
   "metadata": {},
   "outputs": [],
   "source": []
  }
 ],
 "metadata": {
  "kernelspec": {
   "display_name": "met_env_sc",
   "language": "python",
   "name": "python3"
  },
  "language_info": {
   "codemirror_mode": {
    "name": "ipython",
    "version": 3
   },
   "file_extension": ".py",
   "mimetype": "text/x-python",
   "name": "python",
   "nbconvert_exporter": "python",
   "pygments_lexer": "ipython3",
   "version": "3.11.5"
  }
 },
 "nbformat": 4,
 "nbformat_minor": 2
}
